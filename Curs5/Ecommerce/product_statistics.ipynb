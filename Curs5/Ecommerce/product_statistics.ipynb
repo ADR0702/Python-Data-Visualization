{
 "cells": [
  {
   "cell_type": "code",
   "execution_count": 54,
   "metadata": {},
   "outputs": [],
   "source": [
    "import pandas as pd\n",
    "import django\n",
    "import os\n",
    "from asgiref.sync import sync_to_async"
   ]
  },
  {
   "cell_type": "code",
   "execution_count": 55,
   "metadata": {},
   "outputs": [],
   "source": [
    "os.environ.setdefault(\"DJANGO_SETTINGS_MODULE\", \"Ecommerce.settings\")\n",
    "django.setup()"
   ]
  },
  {
   "cell_type": "code",
   "execution_count": 56,
   "metadata": {},
   "outputs": [],
   "source": [
    "from shop.models import Product"
   ]
  },
  {
   "cell_type": "code",
   "execution_count": 57,
   "metadata": {},
   "outputs": [],
   "source": [
    "@sync_to_async\n",
    "def retrieve_products_from_db():\n",
    "    return list(Product.objects.all())"
   ]
  },
  {
   "cell_type": "code",
   "execution_count": 58,
   "metadata": {},
   "outputs": [],
   "source": [
    "products = await retrieve_products_from_db()"
   ]
  },
  {
   "cell_type": "code",
   "execution_count": 59,
   "metadata": {},
   "outputs": [
    {
     "data": {
      "text/plain": [
       "116"
      ]
     },
     "execution_count": 59,
     "metadata": {},
     "output_type": "execute_result"
    }
   ],
   "source": [
    "len(products)"
   ]
  },
  {
   "cell_type": "code",
   "execution_count": 60,
   "metadata": {},
   "outputs": [
    {
     "data": {
      "text/plain": [
       "[<Product: Sosete ieftine>,\n",
       " <Product: Sosete scumpe>,\n",
       " <Product: Produs din linie de comanda>,\n",
       " <Product: Produsul 18>,\n",
       " <Product: Produsul 13>,\n",
       " <Product: Produsul 22>,\n",
       " <Product: Essence Mascara Lash Princess>,\n",
       " <Product: Eyeshadow Palette with Mirror>,\n",
       " <Product: Powder Canister>,\n",
       " <Product: Red Lipstick>,\n",
       " <Product: Red Nail Polish>,\n",
       " <Product: Calvin Klein CK One>,\n",
       " <Product: Chanel Coco Noir Eau De>,\n",
       " <Product: Dior J'adore>,\n",
       " <Product: Dolce Shine Eau de>,\n",
       " <Product: Gucci Bloom Eau de>,\n",
       " <Product: Annibale Colombo Bed>,\n",
       " <Product: Annibale Colombo Sofa>,\n",
       " <Product: Bedside Table African Cherry>,\n",
       " <Product: Knoll Saarinen Executive Conference Chair>,\n",
       " <Product: Wooden Bathroom Sink With Mirror>,\n",
       " <Product: Apple>,\n",
       " <Product: Beef Steak>,\n",
       " <Product: Cat Food>,\n",
       " <Product: Chicken Meat>,\n",
       " <Product: Cooking Oil>,\n",
       " <Product: Cucumber>,\n",
       " <Product: Dog Food>,\n",
       " <Product: Eggs>,\n",
       " <Product: Fish Steak>,\n",
       " <Product: Green Bell Pepper>,\n",
       " <Product: Green Chili Pepper>,\n",
       " <Product: Honey Jar>,\n",
       " <Product: Ice Cream>,\n",
       " <Product: Juice>,\n",
       " <Product: Kiwi>,\n",
       " <Product: Lemon>,\n",
       " <Product: Milk>,\n",
       " <Product: Mulberry>,\n",
       " <Product: Nescafe Coffee>,\n",
       " <Product: Potatoes>,\n",
       " <Product: Protein Powder>,\n",
       " <Product: Red Onions>,\n",
       " <Product: Rice>,\n",
       " <Product: Soft Drinks>,\n",
       " <Product: Strawberry>,\n",
       " <Product: Tissue Paper Box>,\n",
       " <Product: Water>,\n",
       " <Product: Decoration Swing>,\n",
       " <Product: Family Tree Photo Frame>,\n",
       " <Product: House Showpiece Plant>,\n",
       " <Product: Plant Pot>,\n",
       " <Product: Table Lamp>,\n",
       " <Product: Bamboo Spatula>,\n",
       " <Product: Black Aluminium Cup>,\n",
       " <Product: Black Whisk>,\n",
       " <Product: Boxed Blender>,\n",
       " <Product: Carbon Steel Wok>,\n",
       " <Product: Chopping Board>,\n",
       " <Product: Citrus Squeezer Yellow>,\n",
       " <Product: Egg Slicer>,\n",
       " <Product: Electric Stove>,\n",
       " <Product: Fine Mesh Strainer>,\n",
       " <Product: Fork>,\n",
       " <Product: Glass>,\n",
       " <Product: Grater Black>,\n",
       " <Product: Boxed Blender>,\n",
       " <Product: Carbon Steel Wok>,\n",
       " <Product: Chopping Board>,\n",
       " <Product: Citrus Squeezer Yellow>,\n",
       " <Product: Egg Slicer>,\n",
       " <Product: Electric Stove>,\n",
       " <Product: Fine Mesh Strainer>,\n",
       " <Product: Fork>,\n",
       " <Product: Glass>,\n",
       " <Product: Grater Black>,\n",
       " <Product: Hand Blender>,\n",
       " <Product: Ice Cube Tray>,\n",
       " <Product: Kitchen Sieve>,\n",
       " <Product: Knife>,\n",
       " <Product: Lunch Box>,\n",
       " <Product: Microwave Oven>,\n",
       " <Product: Mug Tree Stand>,\n",
       " <Product: Pan>,\n",
       " <Product: Plate>,\n",
       " <Product: Red Tongs>,\n",
       " <Product: Silver Pot With Glass Cap>,\n",
       " <Product: Slotted Turner>,\n",
       " <Product: Spice Rack>,\n",
       " <Product: Spoon>,\n",
       " <Product: Tray>,\n",
       " <Product: Wooden Rolling Pin>,\n",
       " <Product: Yellow Peeler>,\n",
       " <Product: Apple MacBook Pro 14 Inch Space Grey>,\n",
       " <Product: Asus Zenbook Pro Dual Screen Laptop>,\n",
       " <Product: Huawei Matebook X Pro>,\n",
       " <Product: Lenovo Yoga 920>,\n",
       " <Product: New DELL XPS 13 9300 Laptop>,\n",
       " <Product: Blue & Black Check Shirt>,\n",
       " <Product: Gigabyte Aorus Men Tshirt>,\n",
       " <Product: Man Plaid Shirt>,\n",
       " <Product: Man Short Sleeve Shirt>,\n",
       " <Product: Men Check Shirt>,\n",
       " <Product: Nike Air Jordan 1 Red And Black>,\n",
       " <Product: Nike Baseball Cleats>,\n",
       " <Product: Puma Future Rider Trainers>,\n",
       " <Product: Sports Sneakers Off White & Red>,\n",
       " <Product: Sports Sneakers Off White Red>,\n",
       " <Product: Brown Leather Belt Watch>,\n",
       " <Product: Longines Master Collection>,\n",
       " <Product: Rolex Cellini Date Black Dial>,\n",
       " <Product: Rolex Cellini Moonphase>,\n",
       " <Product: Rolex Datejust>,\n",
       " <Product: Rolex Submariner Watch>,\n",
       " <Product: Amazon Echo Plus>,\n",
       " <Product: Apple Airpods>]"
      ]
     },
     "execution_count": 60,
     "metadata": {},
     "output_type": "execute_result"
    }
   ],
   "source": [
    "products"
   ]
  },
  {
   "cell_type": "code",
   "execution_count": 61,
   "metadata": {},
   "outputs": [
    {
     "data": {
      "text/plain": [
       "<Product: Sosete ieftine>"
      ]
     },
     "execution_count": 61,
     "metadata": {},
     "output_type": "execute_result"
    }
   ],
   "source": [
    "products[0]"
   ]
  },
  {
   "cell_type": "code",
   "execution_count": 62,
   "metadata": {},
   "outputs": [
    {
     "data": {
      "text/plain": [
       "dict_keys(['_state', 'id', 'name', 'slug', 'description', 'price', 'image', 'created', 'updated', 'category_id'])"
      ]
     },
     "execution_count": 62,
     "metadata": {},
     "output_type": "execute_result"
    }
   ],
   "source": [
    "products[0].__dict__.keys()"
   ]
  },
  {
   "cell_type": "code",
   "execution_count": 63,
   "metadata": {},
   "outputs": [],
   "source": [
    "filter_keys = ['name', 'slug', 'description', 'price']"
   ]
  },
  {
   "cell_type": "code",
   "execution_count": 64,
   "metadata": {},
   "outputs": [
    {
     "data": {
      "text/plain": [
       "{'name': 'Sosete scumpe',\n",
       " 'slug': 'sosete-scumpe',\n",
       " 'description': 'Nu este recomandat sarakilor (gluma)',\n",
       " 'price': Decimal('200.00')}"
      ]
     },
     "execution_count": 64,
     "metadata": {},
     "output_type": "execute_result"
    }
   ],
   "source": [
    "product_list = []\n",
    "\n",
    "for p in products:\n",
    "    new_dict = {k: p.__dict__[k] for k in filter_keys}\n",
    "    product_list.append(new_dict)\n",
    "product_list[1]"
   ]
  },
  {
   "cell_type": "code",
   "execution_count": 65,
   "metadata": {},
   "outputs": [
    {
     "data": {
      "text/html": [
       "<div>\n",
       "<style scoped>\n",
       "    .dataframe tbody tr th:only-of-type {\n",
       "        vertical-align: middle;\n",
       "    }\n",
       "\n",
       "    .dataframe tbody tr th {\n",
       "        vertical-align: top;\n",
       "    }\n",
       "\n",
       "    .dataframe thead th {\n",
       "        text-align: right;\n",
       "    }\n",
       "</style>\n",
       "<table border=\"1\" class=\"dataframe\">\n",
       "  <thead>\n",
       "    <tr style=\"text-align: right;\">\n",
       "      <th></th>\n",
       "      <th>name</th>\n",
       "      <th>slug</th>\n",
       "      <th>description</th>\n",
       "      <th>price</th>\n",
       "    </tr>\n",
       "  </thead>\n",
       "  <tbody>\n",
       "    <tr>\n",
       "      <th>0</th>\n",
       "      <td>Sosete ieftine</td>\n",
       "      <td>sosete-ieftine</td>\n",
       "      <td>Foarte bune pentru invatat, in orice anotimp!!!</td>\n",
       "      <td>3.00</td>\n",
       "    </tr>\n",
       "    <tr>\n",
       "      <th>1</th>\n",
       "      <td>Sosete scumpe</td>\n",
       "      <td>sosete-scumpe</td>\n",
       "      <td>Nu este recomandat sarakilor (gluma)</td>\n",
       "      <td>200.00</td>\n",
       "    </tr>\n",
       "    <tr>\n",
       "      <th>2</th>\n",
       "      <td>Produs din linie de comanda</td>\n",
       "      <td>produs-din-linie-de-comanda</td>\n",
       "      <td>python manage.py shell</td>\n",
       "      <td>10.00</td>\n",
       "    </tr>\n",
       "    <tr>\n",
       "      <th>3</th>\n",
       "      <td>Produsul 18</td>\n",
       "      <td>produsul-18</td>\n",
       "      <td></td>\n",
       "      <td>18.00</td>\n",
       "    </tr>\n",
       "    <tr>\n",
       "      <th>4</th>\n",
       "      <td>Produsul 13</td>\n",
       "      <td>produsul-13</td>\n",
       "      <td></td>\n",
       "      <td>13.00</td>\n",
       "    </tr>\n",
       "    <tr>\n",
       "      <th>...</th>\n",
       "      <td>...</td>\n",
       "      <td>...</td>\n",
       "      <td>...</td>\n",
       "      <td>...</td>\n",
       "    </tr>\n",
       "    <tr>\n",
       "      <th>111</th>\n",
       "      <td>Rolex Cellini Moonphase</td>\n",
       "      <td>rolex-cellini-moonphase</td>\n",
       "      <td>The Rolex Cellini Moonphase is a masterpiece o...</td>\n",
       "      <td>12999.99</td>\n",
       "    </tr>\n",
       "    <tr>\n",
       "      <th>112</th>\n",
       "      <td>Rolex Datejust</td>\n",
       "      <td>rolex-datejust</td>\n",
       "      <td>The Rolex Datejust is an iconic and versatile ...</td>\n",
       "      <td>10999.99</td>\n",
       "    </tr>\n",
       "    <tr>\n",
       "      <th>113</th>\n",
       "      <td>Rolex Submariner Watch</td>\n",
       "      <td>rolex-submariner-watch</td>\n",
       "      <td>The Rolex Submariner is a legendary dive watch...</td>\n",
       "      <td>13999.99</td>\n",
       "    </tr>\n",
       "    <tr>\n",
       "      <th>114</th>\n",
       "      <td>Amazon Echo Plus</td>\n",
       "      <td>amazon-echo-plus</td>\n",
       "      <td>The Amazon Echo Plus is a smart speaker with b...</td>\n",
       "      <td>99.99</td>\n",
       "    </tr>\n",
       "    <tr>\n",
       "      <th>115</th>\n",
       "      <td>Apple Airpods</td>\n",
       "      <td>apple-airpods</td>\n",
       "      <td>The Apple Airpods offer a seamless wireless au...</td>\n",
       "      <td>129.99</td>\n",
       "    </tr>\n",
       "  </tbody>\n",
       "</table>\n",
       "<p>116 rows × 4 columns</p>\n",
       "</div>"
      ],
      "text/plain": [
       "                            name                         slug  \\\n",
       "0                 Sosete ieftine               sosete-ieftine   \n",
       "1                  Sosete scumpe                sosete-scumpe   \n",
       "2    Produs din linie de comanda  produs-din-linie-de-comanda   \n",
       "3                    Produsul 18                  produsul-18   \n",
       "4                    Produsul 13                  produsul-13   \n",
       "..                           ...                          ...   \n",
       "111      Rolex Cellini Moonphase      rolex-cellini-moonphase   \n",
       "112               Rolex Datejust               rolex-datejust   \n",
       "113       Rolex Submariner Watch       rolex-submariner-watch   \n",
       "114             Amazon Echo Plus             amazon-echo-plus   \n",
       "115                Apple Airpods                apple-airpods   \n",
       "\n",
       "                                           description     price  \n",
       "0      Foarte bune pentru invatat, in orice anotimp!!!      3.00  \n",
       "1                 Nu este recomandat sarakilor (gluma)    200.00  \n",
       "2                               python manage.py shell     10.00  \n",
       "3                                                          18.00  \n",
       "4                                                          13.00  \n",
       "..                                                 ...       ...  \n",
       "111  The Rolex Cellini Moonphase is a masterpiece o...  12999.99  \n",
       "112  The Rolex Datejust is an iconic and versatile ...  10999.99  \n",
       "113  The Rolex Submariner is a legendary dive watch...  13999.99  \n",
       "114  The Amazon Echo Plus is a smart speaker with b...     99.99  \n",
       "115  The Apple Airpods offer a seamless wireless au...    129.99  \n",
       "\n",
       "[116 rows x 4 columns]"
      ]
     },
     "execution_count": 65,
     "metadata": {},
     "output_type": "execute_result"
    }
   ],
   "source": [
    "df = pd.DataFrame(product_list)\n",
    "df"
   ]
  },
  {
   "cell_type": "code",
   "execution_count": 66,
   "metadata": {},
   "outputs": [
    {
     "data": {
      "text/plain": [
       "count      116\n",
       "unique      59\n",
       "top       8.99\n",
       "freq         5\n",
       "Name: price, dtype: object"
      ]
     },
     "execution_count": 66,
     "metadata": {},
     "output_type": "execute_result"
    }
   ],
   "source": [
    "df[\"price\"].describe()"
   ]
  },
  {
   "cell_type": "code",
   "execution_count": 67,
   "metadata": {},
   "outputs": [
    {
     "data": {
      "text/plain": [
       "561.3172413793104"
      ]
     },
     "execution_count": 67,
     "metadata": {},
     "output_type": "execute_result"
    }
   ],
   "source": [
    "df[\"price\"].mean()"
   ]
  },
  {
   "cell_type": "code",
   "execution_count": 68,
   "metadata": {},
   "outputs": [
    {
     "data": {
      "text/html": [
       "<div>\n",
       "<style scoped>\n",
       "    .dataframe tbody tr th:only-of-type {\n",
       "        vertical-align: middle;\n",
       "    }\n",
       "\n",
       "    .dataframe tbody tr th {\n",
       "        vertical-align: top;\n",
       "    }\n",
       "\n",
       "    .dataframe thead th {\n",
       "        text-align: right;\n",
       "    }\n",
       "</style>\n",
       "<table border=\"1\" class=\"dataframe\">\n",
       "  <thead>\n",
       "    <tr style=\"text-align: right;\">\n",
       "      <th></th>\n",
       "      <th>name</th>\n",
       "      <th>slug</th>\n",
       "      <th>description</th>\n",
       "      <th>price</th>\n",
       "    </tr>\n",
       "  </thead>\n",
       "  <tbody>\n",
       "    <tr>\n",
       "      <th>113</th>\n",
       "      <td>Rolex Submariner Watch</td>\n",
       "      <td>rolex-submariner-watch</td>\n",
       "      <td>The Rolex Submariner is a legendary dive watch...</td>\n",
       "      <td>13999.99</td>\n",
       "    </tr>\n",
       "  </tbody>\n",
       "</table>\n",
       "</div>"
      ],
      "text/plain": [
       "                       name                    slug  \\\n",
       "113  Rolex Submariner Watch  rolex-submariner-watch   \n",
       "\n",
       "                                           description     price  \n",
       "113  The Rolex Submariner is a legendary dive watch...  13999.99  "
      ]
     },
     "execution_count": 68,
     "metadata": {},
     "output_type": "execute_result"
    }
   ],
   "source": [
    "df[df[\"price\"] == df[\"price\"].max()]"
   ]
  },
  {
   "cell_type": "code",
   "execution_count": 69,
   "metadata": {},
   "outputs": [],
   "source": [
    "@sync_to_async\n",
    "def retrieve_products_from_db():\n",
    "    return list(Product.objects.select_related(\"category\").values('name', 'slug', 'description', 'price',\"category__name\"))\n",
    "\n",
    "products = await retrieve_products_from_db()"
   ]
  },
  {
   "cell_type": "code",
   "execution_count": 70,
   "metadata": {},
   "outputs": [
    {
     "data": {
      "text/plain": [
       "{'name': 'Sosete ieftine',\n",
       " 'slug': 'sosete-ieftine',\n",
       " 'description': 'Foarte bune pentru invatat, in orice anotimp!!!',\n",
       " 'price': Decimal('3.00'),\n",
       " 'category__name': 'sosete'}"
      ]
     },
     "execution_count": 70,
     "metadata": {},
     "output_type": "execute_result"
    }
   ],
   "source": [
    "products[0]"
   ]
  },
  {
   "cell_type": "code",
   "execution_count": 72,
   "metadata": {},
   "outputs": [
    {
     "data": {
      "text/html": [
       "<div>\n",
       "<style scoped>\n",
       "    .dataframe tbody tr th:only-of-type {\n",
       "        vertical-align: middle;\n",
       "    }\n",
       "\n",
       "    .dataframe tbody tr th {\n",
       "        vertical-align: top;\n",
       "    }\n",
       "\n",
       "    .dataframe thead th {\n",
       "        text-align: right;\n",
       "    }\n",
       "</style>\n",
       "<table border=\"1\" class=\"dataframe\">\n",
       "  <thead>\n",
       "    <tr style=\"text-align: right;\">\n",
       "      <th></th>\n",
       "      <th>name</th>\n",
       "      <th>slug</th>\n",
       "      <th>description</th>\n",
       "      <th>price</th>\n",
       "      <th>category</th>\n",
       "    </tr>\n",
       "  </thead>\n",
       "  <tbody>\n",
       "    <tr>\n",
       "      <th>0</th>\n",
       "      <td>Sosete ieftine</td>\n",
       "      <td>sosete-ieftine</td>\n",
       "      <td>Foarte bune pentru invatat, in orice anotimp!!!</td>\n",
       "      <td>3.00</td>\n",
       "      <td>sosete</td>\n",
       "    </tr>\n",
       "    <tr>\n",
       "      <th>1</th>\n",
       "      <td>Sosete scumpe</td>\n",
       "      <td>sosete-scumpe</td>\n",
       "      <td>Nu este recomandat sarakilor (gluma)</td>\n",
       "      <td>200.00</td>\n",
       "      <td>sosete</td>\n",
       "    </tr>\n",
       "    <tr>\n",
       "      <th>2</th>\n",
       "      <td>Produs din linie de comanda</td>\n",
       "      <td>produs-din-linie-de-comanda</td>\n",
       "      <td>python manage.py shell</td>\n",
       "      <td>10.00</td>\n",
       "      <td>None</td>\n",
       "    </tr>\n",
       "    <tr>\n",
       "      <th>3</th>\n",
       "      <td>Produsul 18</td>\n",
       "      <td>produsul-18</td>\n",
       "      <td></td>\n",
       "      <td>18.00</td>\n",
       "      <td>None</td>\n",
       "    </tr>\n",
       "    <tr>\n",
       "      <th>4</th>\n",
       "      <td>Produsul 13</td>\n",
       "      <td>produsul-13</td>\n",
       "      <td></td>\n",
       "      <td>13.00</td>\n",
       "      <td>None</td>\n",
       "    </tr>\n",
       "    <tr>\n",
       "      <th>...</th>\n",
       "      <td>...</td>\n",
       "      <td>...</td>\n",
       "      <td>...</td>\n",
       "      <td>...</td>\n",
       "      <td>...</td>\n",
       "    </tr>\n",
       "    <tr>\n",
       "      <th>111</th>\n",
       "      <td>Rolex Cellini Moonphase</td>\n",
       "      <td>rolex-cellini-moonphase</td>\n",
       "      <td>The Rolex Cellini Moonphase is a masterpiece o...</td>\n",
       "      <td>12999.99</td>\n",
       "      <td>None</td>\n",
       "    </tr>\n",
       "    <tr>\n",
       "      <th>112</th>\n",
       "      <td>Rolex Datejust</td>\n",
       "      <td>rolex-datejust</td>\n",
       "      <td>The Rolex Datejust is an iconic and versatile ...</td>\n",
       "      <td>10999.99</td>\n",
       "      <td>None</td>\n",
       "    </tr>\n",
       "    <tr>\n",
       "      <th>113</th>\n",
       "      <td>Rolex Submariner Watch</td>\n",
       "      <td>rolex-submariner-watch</td>\n",
       "      <td>The Rolex Submariner is a legendary dive watch...</td>\n",
       "      <td>13999.99</td>\n",
       "      <td>None</td>\n",
       "    </tr>\n",
       "    <tr>\n",
       "      <th>114</th>\n",
       "      <td>Amazon Echo Plus</td>\n",
       "      <td>amazon-echo-plus</td>\n",
       "      <td>The Amazon Echo Plus is a smart speaker with b...</td>\n",
       "      <td>99.99</td>\n",
       "      <td>None</td>\n",
       "    </tr>\n",
       "    <tr>\n",
       "      <th>115</th>\n",
       "      <td>Apple Airpods</td>\n",
       "      <td>apple-airpods</td>\n",
       "      <td>The Apple Airpods offer a seamless wireless au...</td>\n",
       "      <td>129.99</td>\n",
       "      <td>None</td>\n",
       "    </tr>\n",
       "  </tbody>\n",
       "</table>\n",
       "<p>116 rows × 5 columns</p>\n",
       "</div>"
      ],
      "text/plain": [
       "                            name                         slug  \\\n",
       "0                 Sosete ieftine               sosete-ieftine   \n",
       "1                  Sosete scumpe                sosete-scumpe   \n",
       "2    Produs din linie de comanda  produs-din-linie-de-comanda   \n",
       "3                    Produsul 18                  produsul-18   \n",
       "4                    Produsul 13                  produsul-13   \n",
       "..                           ...                          ...   \n",
       "111      Rolex Cellini Moonphase      rolex-cellini-moonphase   \n",
       "112               Rolex Datejust               rolex-datejust   \n",
       "113       Rolex Submariner Watch       rolex-submariner-watch   \n",
       "114             Amazon Echo Plus             amazon-echo-plus   \n",
       "115                Apple Airpods                apple-airpods   \n",
       "\n",
       "                                           description     price category  \n",
       "0      Foarte bune pentru invatat, in orice anotimp!!!      3.00   sosete  \n",
       "1                 Nu este recomandat sarakilor (gluma)    200.00   sosete  \n",
       "2                               python manage.py shell     10.00     None  \n",
       "3                                                          18.00     None  \n",
       "4                                                          13.00     None  \n",
       "..                                                 ...       ...      ...  \n",
       "111  The Rolex Cellini Moonphase is a masterpiece o...  12999.99     None  \n",
       "112  The Rolex Datejust is an iconic and versatile ...  10999.99     None  \n",
       "113  The Rolex Submariner is a legendary dive watch...  13999.99     None  \n",
       "114  The Amazon Echo Plus is a smart speaker with b...     99.99     None  \n",
       "115  The Apple Airpods offer a seamless wireless au...    129.99     None  \n",
       "\n",
       "[116 rows x 5 columns]"
      ]
     },
     "execution_count": 72,
     "metadata": {},
     "output_type": "execute_result"
    }
   ],
   "source": [
    "df = pd.DataFrame(products)\n",
    "df.rename(columns={\"category__name\":\"category\"})"
   ]
  },
  {
   "cell_type": "code",
   "execution_count": 73,
   "metadata": {},
   "outputs": [],
   "source": [
    "import matplotlib.pylab as plt\n",
    "import seaborn as sns"
   ]
  },
  {
   "cell_type": "code",
   "execution_count": 74,
   "metadata": {},
   "outputs": [
    {
     "data": {
      "image/png": "[encoded data removed]",
      "text/plain": [
       "<Figure size 1000x600 with 1 Axes>"
      ]
     },
     "metadata": {},
     "output_type": "display_data"
    }
   ],
   "source": [
    "plt.figure(figsize=(10,6))\n",
    "plt.title(\"preturi ale produselor\")\n",
    "plt.show()"
   ]
  },
  {
   "cell_type": "code",
   "execution_count": 78,
   "metadata": {},
   "outputs": [
    {
     "data": {
      "image/png": "[encoded data removed]",
      "text/plain": [
       "<Figure size 500x300 with 1 Axes>"
      ]
     },
     "metadata": {},
     "output_type": "display_data"
    }
   ],
   "source": [
    "plt.figure(figsize=(5,3))\n",
    "plt.bar(data=df, height = df[\"price\"], x=df[\"name\"])\n",
    "plt.title(\"preturi ale produselor\")\n",
    "plt.show()"
   ]
  },
  {
   "cell_type": "code",
   "execution_count": 79,
   "metadata": {},
   "outputs": [
    {
     "data": {
      "image/png": "[encoded data removed]",
      "text/plain": [
       "<Figure size 500x300 with 1 Axes>"
      ]
     },
     "metadata": {},
     "output_type": "display_data"
    }
   ],
   "source": [
    "sliced_df = df[:3]\n",
    "\n",
    "plt.figure(figsize=(5,3))\n",
    "plt.bar(data=sliced_df, height = sliced_df[\"price\"], x=sliced_df[\"name\"])\n",
    "plt.title(\"preturi ale produselor\")\n",
    "plt.show()"
   ]
  }
 ],
 "metadata": {
  "kernelspec": {
   "display_name": "Python 3",
   "language": "python",
   "name": "python3"
  },
  "language_info": {
   "codemirror_mode": {
    "name": "ipython",
    "version": 3
   },
   "file_extension": ".py",
   "mimetype": "text/x-python",
   "name": "python",
   "nbconvert_exporter": "python",
   "pygments_lexer": "ipython3",
   "version": "3.12.5"
  }
 },
 "nbformat": 4,
 "nbformat_minor": 2
}
